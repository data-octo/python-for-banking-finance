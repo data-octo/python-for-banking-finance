{
 "nbformat": 4,
 "nbformat_minor": 2,
 "metadata": {
  "language_info": {
   "name": "python",
   "codemirror_mode": {
    "name": "ipython",
    "version": 3
   },
   "version": "3.7.4-final"
  },
  "orig_nbformat": 2,
  "file_extension": ".py",
  "mimetype": "text/x-python",
  "name": "python",
  "npconvert_exporter": "python",
  "pygments_lexer": "ipython3",
  "version": 3,
  "kernelspec": {
   "name": "python37464bitbaseconda8cbf85cc44b94ed2a5c37d93e746daff",
   "display_name": "Python 3.7.4 64-bit ('base': conda)"
  }
 },
 "cells": [
  {
   "cell_type": "markdown",
   "execution_count": null,
   "metadata": {},
   "outputs": [],
   "source": [
    "# Python Basics for Finance algorithm\n",
    "\n",
    "Question: How do we implement Finance Algorithm with Python? \n",
    "\n",
    "\n",
    "## Content\n",
    "\n",
    "- Option Pricing Models\n",
    "- Data Types\n",
    "- Condition\n",
    "- Loop\n",
    "- Function"
   ]
  },
  {
   "cell_type": "markdown",
   "execution_count": null,
   "metadata": {},
   "outputs": [],
   "source": [
    "## Option Pricing Models\n",
    "\n",
    "Option Pricing Models are mathematical models that use certain variables to \n",
    "calculate the theoretical value of an option. The theoretical value of an option is an estimate of what an option should be worth using all known inputs. In other words, option pricing models provide us a fair value of an option. Knowing the estimate of the fair value of an option, finance professionals could adjust their trading strategies and portfolios. Therefore, option pricing models are powerful tools for finance professionals involved in options trading.\n",
    "\n",
    "![](https://corporatefinanceinstitute.com/assets/Option-Pricing-Models.png)\n",
    "\n"
   ]
  },
  {
   "cell_type": "markdown",
   "execution_count": null,
   "metadata": {},
   "outputs": [],
   "source": [
    "## Black–Scholes model\n",
    "\n",
    "Black-Scholes is a pricing model used to determine the fair price or theoretical value for a call or a put option based on six variables such as volatility, type of option, underlying stock price, time, strike price, and risk-free rate.\n",
    "\n",
    "\n",
    "![](https://i.pinimg.com/originals/14/c0/19/14c0190d2d6a4e6d45990dc8b7099215.gif)"
   ]
  },
  {
   "cell_type": "code",
   "execution_count": 1,
   "metadata": {},
   "outputs": [
    {
     "name": "stdout",
     "output_type": "stream",
     "text": "Value of the European call option 8.049.\n"
    }
   ],
   "source": [
    "#\n",
    "# Monte Carlo valuation of European call option\n",
    "# in Black-Scholes-Merton model\n",
    "# bsm_mcs_euro.py\n",
    "#\n",
    "# Python for Finance, 2nd ed.\n",
    "# (c) Dr. Yves J. Hilpisch\n",
    "#\n",
    "import math\n",
    "import numpy as np\n",
    "\n",
    "# Parameter Values\n",
    "S0 = 100.  # initial index level\n",
    "K = 105.  # strike price\n",
    "T = 1.0  # time-to-maturity\n",
    "r = 0.05  # riskless short rate\n",
    "sigma = 0.2  # volatility\n",
    "\n",
    "I = 100000  # number of simulations\n",
    "\n",
    "# Valuation Algorithm\n",
    "z = np.random.standard_normal(I)  # pseudo-random numbers\n",
    "# index values at maturity\n",
    "ST = S0 * np.exp((r - 0.5 * sigma ** 2) * T + sigma * math.sqrt(T) * z)\n",
    "hT = np.maximum(ST - K, 0)  # payoff at maturity\n",
    "C0 = math.exp(-r * T) * np.mean(hT)  # Monte Carlo estimator\n",
    "\n",
    "# Result Output\n",
    "print('Value of the European call option %5.3f.' % C0)"
   ]
  },
  {
   "cell_type": "markdown",
   "execution_count": null,
   "metadata": {},
   "outputs": [],
   "source": [
    "## Variables and Data Types\n",
    "\n",
    "A Python variable is a reserved memory location to store values. In other words, a variable in a python program gives data to the computer for processing.\n",
    "Python has five standard data types −\n",
    "- Numbers\n",
    "- String\n",
    "- List\n",
    "- Tuple\n",
    "- Dictionary\n",
    "\n",
    "### Numbers\n",
    "\n",
    "Python supports two types of numbers - integers and floating point numbers. (It also supports complex numbers, which will not be explained in this tutorial).\n",
    "\n",
    "### Strings\n",
    "\n",
    "Strings are defined either with a single quote or a double quotes."
   ]
  },
  {
   "cell_type": "code",
   "execution_count": null,
   "metadata": {},
   "outputs": [],
   "source": [
    "one = 1\n",
    "two = 2\n",
    "three = one + two\n",
    "print(three)\n",
    "\n",
    "hello = \"hello\"\n",
    "world = \"world\"\n",
    "helloworld = hello + \" \" + world\n",
    "print(helloworld)"
   ]
  },
  {
   "cell_type": "markdown",
   "execution_count": null,
   "metadata": {},
   "outputs": [],
   "source": [
    "## Conditions and Loops\n",
    "\n",
    "Python uses boolean variables to evaluate conditions. The boolean values True and False are returned when an expression is compared or evaluated.\n",
    "\n",
    "There are two types of loops in Python, for and while. For loops can iterate over a sequence of numbers using the \"range\". While loops repeat as long as a certain boolean condition is met."
   ]
  },
  {
   "cell_type": "code",
   "execution_count": null,
   "metadata": {},
   "outputs": [],
   "source": [
    "# Conditions\n",
    "\n",
    "name = \"John\"\n",
    "age = 23\n",
    "if name == \"John\" and age == 23:\n",
    "    print(\"Your name is John, and you are also 23 years old.\")\n",
    "\n",
    "if name == \"John\" or name == \"Rick\":\n",
    "    print(\"Your name is either John or Rick.\")"
   ]
  },
  {
   "cell_type": "code",
   "execution_count": null,
   "metadata": {},
   "outputs": [],
   "source": [
    "# Loop \n",
    "\n",
    "# Print out 0,1,2,3,4\n",
    "\n",
    "count = 0\n",
    "while True:\n",
    "    print(count)\n",
    "    count += 1\n",
    "    if count >= 5:\n",
    "        break\n",
    "\n",
    "# Prints out only odd numbers: 1,3,5,7,9\n",
    "for x in range(10):\n",
    "    # Check if x is even\n",
    "    if x % 2 == 0:\n",
    "        continue\n",
    "    print(x)"
   ]
  },
  {
   "cell_type": "markdown",
   "execution_count": null,
   "metadata": {},
   "outputs": [],
   "source": [
    "## Function\n",
    "\n",
    "Functions are a convenient way to divide your code into useful blocks, allowing us to order our code, make it more readable, reuse it and save some time. Also functions are a key way to define interfaces so programmers can share their code.\n",
    "Functions in python are defined using the block keyword \"def\", followed with the function's name as the block's name."
   ]
  },
  {
   "cell_type": "code",
   "execution_count": null,
   "metadata": {},
   "outputs": [],
   "source": [
    "# Define functions\n",
    "\n",
    "def my_function():\n",
    "    print(\"Hello From My Function!\")\n",
    "\n",
    "def my_function_with_args(username, greeting):\n",
    "    print(\"Hello, %s , From My Function!, I wish you %s\"%(username, greeting))\n",
    "\n",
    "def sum_two_numbers(a, b):\n",
    "    return a + b\n",
    "\n",
    "# print(a simple greeting)\n",
    "my_function()\n",
    "\n",
    "#prints - \"Hello, John Doe, From My Function!, I wish you a great year!\"\n",
    "my_function_with_args(\"John Doe\", \"a great year!\")\n",
    "\n",
    "# print sum of number 1 and 2\n",
    "x = sum_two_numbers(1,2)\n",
    "print(x)"
   ]
  }
 ]
}